{
 "cells": [
  {
   "cell_type": "code",
   "execution_count": 1591,
   "outputs": [],
   "source": [
    "# importing packages\n",
    "import pandas as pd\n",
    "\n",
    "#dvierse\n",
    "from string import ascii_letters\n",
    "import numpy as np\n",
    "import seaborn as sns\n",
    "import matplotlib.pyplot as plt\n",
    "\n",
    "# for preprocessing\n",
    "from sklearn.preprocessing import MinMaxScaler\n",
    "from sklearn.preprocessing import StandardScaler\n",
    "from sklearn.model_selection import train_test_split\n",
    "from sklearn.preprocessing import RobustScaler\n",
    "from scipy import stats\n",
    "\n",
    "# for prediciting\n",
    "from sklearn.neural_network import MLPRegressor\n",
    "from sklearn.linear_model import LinearRegression\n",
    "from xgboost import XGBRegressor\n",
    "\n",
    "\n",
    "# for assessing\n",
    "from sklearn.metrics import accuracy_score\n",
    "from sklearn.metrics import plot_confusion_matrix\n",
    "from sklearn.model_selection import cross_val_score"
   ],
   "metadata": {
    "collapsed": false,
    "pycharm": {
     "name": "#%%\n"
    }
   }
  },
  {
   "cell_type": "code",
   "execution_count": 1592,
   "outputs": [],
   "source": [
    "# importing data\n",
    "df_raw = pd.read_csv('C:/Users/Marc/Dropbox/06_ESCP/01_Uni/05_Term 3/04_HDI/01_Code/01_Input/210517_syn_data.csv')"
   ],
   "metadata": {
    "collapsed": false,
    "pycharm": {
     "name": "#%%\n"
    }
   }
  },
  {
   "cell_type": "code",
   "execution_count": 1593,
   "outputs": [],
   "source": [
    "# drop not necessary index\n",
    "df_raw = df_raw.drop(columns = ['Unnamed: 0'])\n"
   ],
   "metadata": {
    "collapsed": false,
    "pycharm": {
     "name": "#%%\n"
    }
   }
  },
  {
   "cell_type": "markdown",
   "source": [
    "Approach:\n",
    "- Dataset understanding\n",
    "    - Split between Contract info, Customer info, property info, contract part, product description, damage description, damage target\n",
    "- Check Cleaning & Scale\n",
    "    - Data received clean, hence not cleaning to be performed\n",
    "        - MinMaxScaler\n",
    "        - StandardScaler\n",
    "        - RobustScaler\n",
    "        - Outlier reduction based on z-score\n",
    "        - Bucketing for Neural Network\n",
    "- Check Multilinearity (Check Feature Correlation)\n",
    "- Run Lasso Regression to define the relevant Attributes\n",
    "- Creation of Algorithms (Try using lazy predict)\n",
    "    - Multilinear Regression\n",
    "    - Naive Bayes\n",
    "    - Adapt Boost\n",
    "    - XG Boost\n",
    "    - Random Forest\n",
    "- Parameter Tuning (What do we want to optimize)\n",
    "- Conclusion Discussion and Interpretation"
   ],
   "metadata": {
    "collapsed": false
   }
  },
  {
   "cell_type": "code",
   "execution_count": 1594,
   "outputs": [
    {
     "data": {
      "text/plain": "       CONTRACT_INFO_0  CONTRACT_INFO_1  CONTRACT_INFO_2  CONTRACT_INFO_3  \\\ncount    100000.000000    100000.000000    100000.000000    100000.000000   \nmean        220.439070         0.136420    103502.000000       131.626250   \nstd          90.172758         0.496117     34851.981904        51.997967   \nmin          20.000000         0.000000     50000.000000        50.000000   \n25%         150.000000         0.000000     75000.000000       100.000000   \n50%         223.000000         0.000000    100000.000000       125.000000   \n75%         282.000000         0.000000    125000.000000       150.000000   \nmax         420.000000         2.000000    200000.000000       300.000000   \n\n       CONTRACT_INFO_4  CONTRACT_INFO_5  CONTRACT_INFO_6  CONTRACT_INFO_7  \\\ncount    100000.000000    100000.000000    100000.000000    100000.000000   \nmean          0.859490         0.001470       218.826867       195.701800   \nstd           0.347517         0.038313       247.499933        83.759818   \nmin           0.000000         0.000000         0.000000        70.000000   \n25%           1.000000         0.000000         0.000000       148.000000   \n50%           1.000000         0.000000         0.000000       183.000000   \n75%           1.000000         0.000000       500.000000       238.000000   \nmax           1.000000         1.000000       500.000000       529.000000   \n\n       CUSTOMER_INFO_0  CUSTOMER_INFO_1  ...  DAMAGE_DESCRIPTION_2  \\\ncount    100000.000000    100000.000000  ...         100000.000000   \nmean          4.335420       549.715150  ...              0.000310   \nstd           0.948748       159.104597  ...              0.017604   \nmin           0.000000       250.000000  ...              0.000000   \n25%           4.000000       447.000000  ...              0.000000   \n50%           5.000000       504.000000  ...              0.000000   \n75%           5.000000       635.000000  ...              0.000000   \nmax           6.000000       992.000000  ...              1.000000   \n\n       DAMAGE_DESCRIPTION_3  DAMAGE_DESCRIPTION_4  DAMAGE_DESCRIPTION_5  \\\ncount         100000.000000         100000.000000          100000.00000   \nmean               0.000350              0.000230               0.00021   \nstd                0.018705              0.015164               0.01449   \nmin                0.000000              0.000000               0.00000   \n25%                0.000000              0.000000               0.00000   \n50%                0.000000              0.000000               0.00000   \n75%                0.000000              0.000000               0.00000   \nmax                1.000000              1.000000               1.00000   \n\n       DAMAGE_DESCRIPTION_6  DAMAGE_DESCRIPTION_7  DAMAGE_DESCRIPTION_8  \\\ncount         100000.000000         100000.000000         100000.000000   \nmean               0.487760              0.208190              0.033410   \nstd                0.499853              0.406015              0.179706   \nmin                0.000000              0.000000              0.000000   \n25%                0.000000              0.000000              0.000000   \n50%                0.000000              0.000000              0.000000   \n75%                1.000000              0.000000              0.000000   \nmax                1.000000              1.000000              1.000000   \n\n       DAMAGE_DESCRIPTION_9  DAMAGE_DESCRIPTION_10    CONTRACT_ID  \ncount         100000.000000          100000.000000  100000.000000  \nmean               0.175490               0.103100   11270.664920  \nstd                0.380388               0.304091    6786.492149  \nmin                0.000000               0.000000       1.000000  \n25%                0.000000               0.000000    5033.000000  \n50%                0.000000               0.000000   11182.000000  \n75%                0.000000               0.000000   17293.000000  \nmax                1.000000               1.000000   22755.000000  \n\n[8 rows x 65 columns]",
      "text/html": "<div>\n<style scoped>\n    .dataframe tbody tr th:only-of-type {\n        vertical-align: middle;\n    }\n\n    .dataframe tbody tr th {\n        vertical-align: top;\n    }\n\n    .dataframe thead th {\n        text-align: right;\n    }\n</style>\n<table border=\"1\" class=\"dataframe\">\n  <thead>\n    <tr style=\"text-align: right;\">\n      <th></th>\n      <th>CONTRACT_INFO_0</th>\n      <th>CONTRACT_INFO_1</th>\n      <th>CONTRACT_INFO_2</th>\n      <th>CONTRACT_INFO_3</th>\n      <th>CONTRACT_INFO_4</th>\n      <th>CONTRACT_INFO_5</th>\n      <th>CONTRACT_INFO_6</th>\n      <th>CONTRACT_INFO_7</th>\n      <th>CUSTOMER_INFO_0</th>\n      <th>CUSTOMER_INFO_1</th>\n      <th>...</th>\n      <th>DAMAGE_DESCRIPTION_2</th>\n      <th>DAMAGE_DESCRIPTION_3</th>\n      <th>DAMAGE_DESCRIPTION_4</th>\n      <th>DAMAGE_DESCRIPTION_5</th>\n      <th>DAMAGE_DESCRIPTION_6</th>\n      <th>DAMAGE_DESCRIPTION_7</th>\n      <th>DAMAGE_DESCRIPTION_8</th>\n      <th>DAMAGE_DESCRIPTION_9</th>\n      <th>DAMAGE_DESCRIPTION_10</th>\n      <th>CONTRACT_ID</th>\n    </tr>\n  </thead>\n  <tbody>\n    <tr>\n      <th>count</th>\n      <td>100000.000000</td>\n      <td>100000.000000</td>\n      <td>100000.000000</td>\n      <td>100000.000000</td>\n      <td>100000.000000</td>\n      <td>100000.000000</td>\n      <td>100000.000000</td>\n      <td>100000.000000</td>\n      <td>100000.000000</td>\n      <td>100000.000000</td>\n      <td>...</td>\n      <td>100000.000000</td>\n      <td>100000.000000</td>\n      <td>100000.000000</td>\n      <td>100000.00000</td>\n      <td>100000.000000</td>\n      <td>100000.000000</td>\n      <td>100000.000000</td>\n      <td>100000.000000</td>\n      <td>100000.000000</td>\n      <td>100000.000000</td>\n    </tr>\n    <tr>\n      <th>mean</th>\n      <td>220.439070</td>\n      <td>0.136420</td>\n      <td>103502.000000</td>\n      <td>131.626250</td>\n      <td>0.859490</td>\n      <td>0.001470</td>\n      <td>218.826867</td>\n      <td>195.701800</td>\n      <td>4.335420</td>\n      <td>549.715150</td>\n      <td>...</td>\n      <td>0.000310</td>\n      <td>0.000350</td>\n      <td>0.000230</td>\n      <td>0.00021</td>\n      <td>0.487760</td>\n      <td>0.208190</td>\n      <td>0.033410</td>\n      <td>0.175490</td>\n      <td>0.103100</td>\n      <td>11270.664920</td>\n    </tr>\n    <tr>\n      <th>std</th>\n      <td>90.172758</td>\n      <td>0.496117</td>\n      <td>34851.981904</td>\n      <td>51.997967</td>\n      <td>0.347517</td>\n      <td>0.038313</td>\n      <td>247.499933</td>\n      <td>83.759818</td>\n      <td>0.948748</td>\n      <td>159.104597</td>\n      <td>...</td>\n      <td>0.017604</td>\n      <td>0.018705</td>\n      <td>0.015164</td>\n      <td>0.01449</td>\n      <td>0.499853</td>\n      <td>0.406015</td>\n      <td>0.179706</td>\n      <td>0.380388</td>\n      <td>0.304091</td>\n      <td>6786.492149</td>\n    </tr>\n    <tr>\n      <th>min</th>\n      <td>20.000000</td>\n      <td>0.000000</td>\n      <td>50000.000000</td>\n      <td>50.000000</td>\n      <td>0.000000</td>\n      <td>0.000000</td>\n      <td>0.000000</td>\n      <td>70.000000</td>\n      <td>0.000000</td>\n      <td>250.000000</td>\n      <td>...</td>\n      <td>0.000000</td>\n      <td>0.000000</td>\n      <td>0.000000</td>\n      <td>0.00000</td>\n      <td>0.000000</td>\n      <td>0.000000</td>\n      <td>0.000000</td>\n      <td>0.000000</td>\n      <td>0.000000</td>\n      <td>1.000000</td>\n    </tr>\n    <tr>\n      <th>25%</th>\n      <td>150.000000</td>\n      <td>0.000000</td>\n      <td>75000.000000</td>\n      <td>100.000000</td>\n      <td>1.000000</td>\n      <td>0.000000</td>\n      <td>0.000000</td>\n      <td>148.000000</td>\n      <td>4.000000</td>\n      <td>447.000000</td>\n      <td>...</td>\n      <td>0.000000</td>\n      <td>0.000000</td>\n      <td>0.000000</td>\n      <td>0.00000</td>\n      <td>0.000000</td>\n      <td>0.000000</td>\n      <td>0.000000</td>\n      <td>0.000000</td>\n      <td>0.000000</td>\n      <td>5033.000000</td>\n    </tr>\n    <tr>\n      <th>50%</th>\n      <td>223.000000</td>\n      <td>0.000000</td>\n      <td>100000.000000</td>\n      <td>125.000000</td>\n      <td>1.000000</td>\n      <td>0.000000</td>\n      <td>0.000000</td>\n      <td>183.000000</td>\n      <td>5.000000</td>\n      <td>504.000000</td>\n      <td>...</td>\n      <td>0.000000</td>\n      <td>0.000000</td>\n      <td>0.000000</td>\n      <td>0.00000</td>\n      <td>0.000000</td>\n      <td>0.000000</td>\n      <td>0.000000</td>\n      <td>0.000000</td>\n      <td>0.000000</td>\n      <td>11182.000000</td>\n    </tr>\n    <tr>\n      <th>75%</th>\n      <td>282.000000</td>\n      <td>0.000000</td>\n      <td>125000.000000</td>\n      <td>150.000000</td>\n      <td>1.000000</td>\n      <td>0.000000</td>\n      <td>500.000000</td>\n      <td>238.000000</td>\n      <td>5.000000</td>\n      <td>635.000000</td>\n      <td>...</td>\n      <td>0.000000</td>\n      <td>0.000000</td>\n      <td>0.000000</td>\n      <td>0.00000</td>\n      <td>1.000000</td>\n      <td>0.000000</td>\n      <td>0.000000</td>\n      <td>0.000000</td>\n      <td>0.000000</td>\n      <td>17293.000000</td>\n    </tr>\n    <tr>\n      <th>max</th>\n      <td>420.000000</td>\n      <td>2.000000</td>\n      <td>200000.000000</td>\n      <td>300.000000</td>\n      <td>1.000000</td>\n      <td>1.000000</td>\n      <td>500.000000</td>\n      <td>529.000000</td>\n      <td>6.000000</td>\n      <td>992.000000</td>\n      <td>...</td>\n      <td>1.000000</td>\n      <td>1.000000</td>\n      <td>1.000000</td>\n      <td>1.00000</td>\n      <td>1.000000</td>\n      <td>1.000000</td>\n      <td>1.000000</td>\n      <td>1.000000</td>\n      <td>1.000000</td>\n      <td>22755.000000</td>\n    </tr>\n  </tbody>\n</table>\n<p>8 rows × 65 columns</p>\n</div>"
     },
     "execution_count": 1594,
     "metadata": {},
     "output_type": "execute_result"
    }
   ],
   "source": [
    "df_raw.describe()\n",
    "\n",
    "### mean and standard deviation are not around 0, hence scaling has to be done"
   ],
   "metadata": {
    "collapsed": false,
    "pycharm": {
     "name": "#%%\n"
    }
   }
  },
  {
   "cell_type": "code",
   "execution_count": 1595,
   "outputs": [],
   "source": [
    "# Selecting all numerical features to scale\n",
    "numerical_to_scale = ['CONTRACT_INFO_0','CONTRACT_INFO_7', 'CUSTOMER_INFO_1', 'CUSTOMER_INFO_2', 'CUSTOMER_INFO_3', 'DAMAGE_DESCRIPTION_0', 'DAMAGE_DESCRIPTION_1' ]\n",
    "num_to_s = df_raw[numerical_to_scale]"
   ],
   "metadata": {
    "collapsed": false,
    "pycharm": {
     "name": "#%%\n"
    }
   }
  },
  {
   "cell_type": "code",
   "execution_count": 1596,
   "outputs": [
    {
     "data": {
      "text/plain": "<AxesSubplot:ylabel='CONTRACT_INFO_0'>"
     },
     "execution_count": 1596,
     "metadata": {},
     "output_type": "execute_result"
    },
    {
     "data": {
      "text/plain": "<Figure size 432x288 with 1 Axes>",
      "image/png": "[encoded data removed]"
     },
     "metadata": {
      "needs_background": "light"
     },
     "output_type": "display_data"
    }
   ],
   "source": [
    "sns.boxplot(y=num_to_s['CONTRACT_INFO_0'])"
   ],
   "metadata": {
    "collapsed": false,
    "pycharm": {
     "name": "#%%\n"
    }
   }
  },
  {
   "cell_type": "code",
   "execution_count": 1597,
   "outputs": [
    {
     "data": {
      "text/plain": "<AxesSubplot:ylabel='CONTRACT_INFO_7'>"
     },
     "execution_count": 1597,
     "metadata": {},
     "output_type": "execute_result"
    },
    {
     "data": {
      "text/plain": "<Figure size 432x288 with 1 Axes>",
      "image/png": "[encoded data removed]"
     },
     "metadata": {
      "needs_background": "light"
     },
     "output_type": "display_data"
    }
   ],
   "source": [
    "sns.boxplot(y=num_to_s['CONTRACT_INFO_7'])"
   ],
   "metadata": {
    "collapsed": false,
    "pycharm": {
     "name": "#%%\n"
    }
   }
  },
  {
   "cell_type": "code",
   "execution_count": 1598,
   "outputs": [
    {
     "data": {
      "text/plain": "<AxesSubplot:ylabel='CUSTOMER_INFO_1'>"
     },
     "execution_count": 1598,
     "metadata": {},
     "output_type": "execute_result"
    },
    {
     "data": {
      "text/plain": "<Figure size 432x288 with 1 Axes>",
      "image/png": "[encoded data removed]"
     },
     "metadata": {
      "needs_background": "light"
     },
     "output_type": "display_data"
    }
   ],
   "source": [
    "sns.boxplot(y=num_to_s['CUSTOMER_INFO_1'])"
   ],
   "metadata": {
    "collapsed": false,
    "pycharm": {
     "name": "#%%\n"
    }
   }
  },
  {
   "cell_type": "code",
   "execution_count": 1599,
   "outputs": [
    {
     "data": {
      "text/plain": "<AxesSubplot:ylabel='CUSTOMER_INFO_2'>"
     },
     "execution_count": 1599,
     "metadata": {},
     "output_type": "execute_result"
    },
    {
     "data": {
      "text/plain": "<Figure size 432x288 with 1 Axes>",
      "image/png": "[encoded data removed]"
     },
     "metadata": {
      "needs_background": "light"
     },
     "output_type": "display_data"
    }
   ],
   "source": [
    "sns.boxplot(y=num_to_s['CUSTOMER_INFO_2'])"
   ],
   "metadata": {
    "collapsed": false,
    "pycharm": {
     "name": "#%%\n"
    }
   }
  },
  {
   "cell_type": "code",
   "execution_count": 1600,
   "outputs": [
    {
     "data": {
      "text/plain": "<AxesSubplot:ylabel='CUSTOMER_INFO_3'>"
     },
     "execution_count": 1600,
     "metadata": {},
     "output_type": "execute_result"
    },
    {
     "data": {
      "text/plain": "<Figure size 432x288 with 1 Axes>",
      "image/png": "[encoded data removed]"
     },
     "metadata": {
      "needs_background": "light"
     },
     "output_type": "display_data"
    }
   ],
   "source": [
    "sns.boxplot(y=num_to_s['CUSTOMER_INFO_3'])"
   ],
   "metadata": {
    "collapsed": false,
    "pycharm": {
     "name": "#%%\n"
    }
   }
  },
  {
   "cell_type": "code",
   "execution_count": 1601,
   "outputs": [
    {
     "data": {
      "text/plain": "<AxesSubplot:ylabel='DAMAGE_DESCRIPTION_0'>"
     },
     "execution_count": 1601,
     "metadata": {},
     "output_type": "execute_result"
    },
    {
     "data": {
      "text/plain": "<Figure size 432x288 with 1 Axes>",
      "image/png": "[encoded data removed]"
     },
     "metadata": {
      "needs_background": "light"
     },
     "output_type": "display_data"
    }
   ],
   "source": [
    "sns.boxplot(y=num_to_s['DAMAGE_DESCRIPTION_0'])"
   ],
   "metadata": {
    "collapsed": false,
    "pycharm": {
     "name": "#%%\n"
    }
   }
  },
  {
   "cell_type": "code",
   "execution_count": 1602,
   "outputs": [
    {
     "data": {
      "text/plain": "<AxesSubplot:ylabel='DAMAGE_DESCRIPTION_1'>"
     },
     "execution_count": 1602,
     "metadata": {},
     "output_type": "execute_result"
    },
    {
     "data": {
      "text/plain": "<Figure size 432x288 with 1 Axes>",
      "image/png": "[encoded data removed]"
     },
     "metadata": {
      "needs_background": "light"
     },
     "output_type": "display_data"
    }
   ],
   "source": [
    "sns.boxplot(y=num_to_s['DAMAGE_DESCRIPTION_1'])"
   ],
   "metadata": {
    "collapsed": false,
    "pycharm": {
     "name": "#%%\n"
    }
   }
  },
  {
   "cell_type": "code",
   "execution_count": 1603,
   "outputs": [],
   "source": [
    "# split X from, as target variable should remain original values and not adjusted to the scale\n",
    "y = pd.DataFrame(df_raw.DAMAGE_TARGET)\n",
    "X = df_raw.drop(columns = ['DAMAGE_TARGET', 'CONTRACT_ID'])\n",
    "X_not_num = X.drop(columns=numerical_to_scale)\n"
   ],
   "metadata": {
    "collapsed": false,
    "pycharm": {
     "name": "#%%\n"
    }
   }
  },
  {
   "cell_type": "code",
   "execution_count": 1604,
   "outputs": [
    {
     "data": {
      "text/plain": "       CONTRACT_INFO_1  CONTRACT_INFO_2  CONTRACT_INFO_3  CONTRACT_INFO_4  \\\n0                    0            50000              125                1   \n1                    0           100000              150                1   \n2                    0           125000              150                0   \n3                    0           125000              150                1   \n4                    0            75000               75                0   \n...                ...              ...              ...              ...   \n99995                0            75000              125                1   \n99996                0           125000              125                1   \n99997                0           175000               75                1   \n99998                0           100000              300                1   \n99999                2            75000               50                1   \n\n       CONTRACT_INFO_5  CONTRACT_INFO_6  CUSTOMER_INFO_0  PROPERTY_INFO_0  \\\n0                    0              0.0                5                1   \n1                    0            500.0                5                1   \n2                    0              0.0                3                1   \n3                    0            500.0                5                1   \n4                    0              0.0                3                1   \n...                ...              ...              ...              ...   \n99995                0              0.0                4                1   \n99996                0              0.0                4                1   \n99997                0              0.0                5                1   \n99998                0              0.0                5                1   \n99999                0              0.0                2                1   \n\n       PROPERTY_INFO_1  PROPERTY_INFO_2  ...  PRODUCT_DESCRIPTION_11  \\\n0                    6                2  ...                       1   \n1                    2                2  ...                       1   \n2                    5                2  ...                       0   \n3                    1                2  ...                       0   \n4                    4                2  ...                       0   \n...                ...              ...  ...                     ...   \n99995                2                2  ...                       0   \n99996                5                2  ...                       1   \n99997                1                2  ...                       0   \n99998                3                2  ...                       0   \n99999               16                1  ...                       0   \n\n       DAMAGE_DESCRIPTION_2  DAMAGE_DESCRIPTION_3  DAMAGE_DESCRIPTION_4  \\\n0                       0.0                   0.0                   0.0   \n1                       0.0                   0.0                   0.0   \n2                       0.0                   0.0                   0.0   \n3                       0.0                   0.0                   0.0   \n4                       0.0                   0.0                   0.0   \n...                     ...                   ...                   ...   \n99995                   0.0                   0.0                   0.0   \n99996                   0.0                   0.0                   0.0   \n99997                   0.0                   0.0                   0.0   \n99998                   0.0                   0.0                   0.0   \n99999                   0.0                   0.0                   0.0   \n\n       DAMAGE_DESCRIPTION_5  DAMAGE_DESCRIPTION_6  DAMAGE_DESCRIPTION_7  \\\n0                       0.0                   1.0                   0.0   \n1                       0.0                   0.0                   1.0   \n2                       0.0                   1.0                   0.0   \n3                       0.0                   0.0                   0.0   \n4                       0.0                   0.0                   1.0   \n...                     ...                   ...                   ...   \n99995                   0.0                   1.0                   0.0   \n99996                   0.0                   1.0                   0.0   \n99997                   0.0                   0.0                   0.0   \n99998                   0.0                   1.0                   0.0   \n99999                   0.0                   0.0                   0.0   \n\n       DAMAGE_DESCRIPTION_8  DAMAGE_DESCRIPTION_9  DAMAGE_DESCRIPTION_10  \n0                       0.0                   0.0                    0.0  \n1                       0.0                   0.0                    0.0  \n2                       0.0                   0.0                    0.0  \n3                       0.0                   0.0                    0.0  \n4                       0.0                   0.0                    0.0  \n...                     ...                   ...                    ...  \n99995                   0.0                   0.0                    0.0  \n99996                   0.0                   0.0                    0.0  \n99997                   0.0                   0.0                    1.0  \n99998                   0.0                   0.0                    0.0  \n99999                   1.0                   0.0                    1.0  \n\n[100000 rows x 56 columns]",
      "text/html": "<div>\n<style scoped>\n    .dataframe tbody tr th:only-of-type {\n        vertical-align: middle;\n    }\n\n    .dataframe tbody tr th {\n        vertical-align: top;\n    }\n\n    .dataframe thead th {\n        text-align: right;\n    }\n</style>\n<table border=\"1\" class=\"dataframe\">\n  <thead>\n    <tr style=\"text-align: right;\">\n      <th></th>\n      <th>CONTRACT_INFO_1</th>\n      <th>CONTRACT_INFO_2</th>\n      <th>CONTRACT_INFO_3</th>\n      <th>CONTRACT_INFO_4</th>\n      <th>CONTRACT_INFO_5</th>\n      <th>CONTRACT_INFO_6</th>\n      <th>CUSTOMER_INFO_0</th>\n      <th>PROPERTY_INFO_0</th>\n      <th>PROPERTY_INFO_1</th>\n      <th>PROPERTY_INFO_2</th>\n      <th>...</th>\n      <th>PRODUCT_DESCRIPTION_11</th>\n      <th>DAMAGE_DESCRIPTION_2</th>\n      <th>DAMAGE_DESCRIPTION_3</th>\n      <th>DAMAGE_DESCRIPTION_4</th>\n      <th>DAMAGE_DESCRIPTION_5</th>\n      <th>DAMAGE_DESCRIPTION_6</th>\n      <th>DAMAGE_DESCRIPTION_7</th>\n      <th>DAMAGE_DESCRIPTION_8</th>\n      <th>DAMAGE_DESCRIPTION_9</th>\n      <th>DAMAGE_DESCRIPTION_10</th>\n    </tr>\n  </thead>\n  <tbody>\n    <tr>\n      <th>0</th>\n      <td>0</td>\n      <td>50000</td>\n      <td>125</td>\n      <td>1</td>\n      <td>0</td>\n      <td>0.0</td>\n      <td>5</td>\n      <td>1</td>\n      <td>6</td>\n      <td>2</td>\n      <td>...</td>\n      <td>1</td>\n      <td>0.0</td>\n      <td>0.0</td>\n      <td>0.0</td>\n      <td>0.0</td>\n      <td>1.0</td>\n      <td>0.0</td>\n      <td>0.0</td>\n      <td>0.0</td>\n      <td>0.0</td>\n    </tr>\n    <tr>\n      <th>1</th>\n      <td>0</td>\n      <td>100000</td>\n      <td>150</td>\n      <td>1</td>\n      <td>0</td>\n      <td>500.0</td>\n      <td>5</td>\n      <td>1</td>\n      <td>2</td>\n      <td>2</td>\n      <td>...</td>\n      <td>1</td>\n      <td>0.0</td>\n      <td>0.0</td>\n      <td>0.0</td>\n      <td>0.0</td>\n      <td>0.0</td>\n      <td>1.0</td>\n      <td>0.0</td>\n      <td>0.0</td>\n      <td>0.0</td>\n    </tr>\n    <tr>\n      <th>2</th>\n      <td>0</td>\n      <td>125000</td>\n      <td>150</td>\n      <td>0</td>\n      <td>0</td>\n      <td>0.0</td>\n      <td>3</td>\n      <td>1</td>\n      <td>5</td>\n      <td>2</td>\n      <td>...</td>\n      <td>0</td>\n      <td>0.0</td>\n      <td>0.0</td>\n      <td>0.0</td>\n      <td>0.0</td>\n      <td>1.0</td>\n      <td>0.0</td>\n      <td>0.0</td>\n      <td>0.0</td>\n      <td>0.0</td>\n    </tr>\n    <tr>\n      <th>3</th>\n      <td>0</td>\n      <td>125000</td>\n      <td>150</td>\n      <td>1</td>\n      <td>0</td>\n      <td>500.0</td>\n      <td>5</td>\n      <td>1</td>\n      <td>1</td>\n      <td>2</td>\n      <td>...</td>\n      <td>0</td>\n      <td>0.0</td>\n      <td>0.0</td>\n      <td>0.0</td>\n      <td>0.0</td>\n      <td>0.0</td>\n      <td>0.0</td>\n      <td>0.0</td>\n      <td>0.0</td>\n      <td>0.0</td>\n    </tr>\n    <tr>\n      <th>4</th>\n      <td>0</td>\n      <td>75000</td>\n      <td>75</td>\n      <td>0</td>\n      <td>0</td>\n      <td>0.0</td>\n      <td>3</td>\n      <td>1</td>\n      <td>4</td>\n      <td>2</td>\n      <td>...</td>\n      <td>0</td>\n      <td>0.0</td>\n      <td>0.0</td>\n      <td>0.0</td>\n      <td>0.0</td>\n      <td>0.0</td>\n      <td>1.0</td>\n      <td>0.0</td>\n      <td>0.0</td>\n      <td>0.0</td>\n    </tr>\n    <tr>\n      <th>...</th>\n      <td>...</td>\n      <td>...</td>\n      <td>...</td>\n      <td>...</td>\n      <td>...</td>\n      <td>...</td>\n      <td>...</td>\n      <td>...</td>\n      <td>...</td>\n      <td>...</td>\n      <td>...</td>\n      <td>...</td>\n      <td>...</td>\n      <td>...</td>\n      <td>...</td>\n      <td>...</td>\n      <td>...</td>\n      <td>...</td>\n      <td>...</td>\n      <td>...</td>\n      <td>...</td>\n    </tr>\n    <tr>\n      <th>99995</th>\n      <td>0</td>\n      <td>75000</td>\n      <td>125</td>\n      <td>1</td>\n      <td>0</td>\n      <td>0.0</td>\n      <td>4</td>\n      <td>1</td>\n      <td>2</td>\n      <td>2</td>\n      <td>...</td>\n      <td>0</td>\n      <td>0.0</td>\n      <td>0.0</td>\n      <td>0.0</td>\n      <td>0.0</td>\n      <td>1.0</td>\n      <td>0.0</td>\n      <td>0.0</td>\n      <td>0.0</td>\n      <td>0.0</td>\n    </tr>\n    <tr>\n      <th>99996</th>\n      <td>0</td>\n      <td>125000</td>\n      <td>125</td>\n      <td>1</td>\n      <td>0</td>\n      <td>0.0</td>\n      <td>4</td>\n      <td>1</td>\n      <td>5</td>\n      <td>2</td>\n      <td>...</td>\n      <td>1</td>\n      <td>0.0</td>\n      <td>0.0</td>\n      <td>0.0</td>\n      <td>0.0</td>\n      <td>1.0</td>\n      <td>0.0</td>\n      <td>0.0</td>\n      <td>0.0</td>\n      <td>0.0</td>\n    </tr>\n    <tr>\n      <th>99997</th>\n      <td>0</td>\n      <td>175000</td>\n      <td>75</td>\n      <td>1</td>\n      <td>0</td>\n      <td>0.0</td>\n      <td>5</td>\n      <td>1</td>\n      <td>1</td>\n      <td>2</td>\n      <td>...</td>\n      <td>0</td>\n      <td>0.0</td>\n      <td>0.0</td>\n      <td>0.0</td>\n      <td>0.0</td>\n      <td>0.0</td>\n      <td>0.0</td>\n      <td>0.0</td>\n      <td>0.0</td>\n      <td>1.0</td>\n    </tr>\n    <tr>\n      <th>99998</th>\n      <td>0</td>\n      <td>100000</td>\n      <td>300</td>\n      <td>1</td>\n      <td>0</td>\n      <td>0.0</td>\n      <td>5</td>\n      <td>1</td>\n      <td>3</td>\n      <td>2</td>\n      <td>...</td>\n      <td>0</td>\n      <td>0.0</td>\n      <td>0.0</td>\n      <td>0.0</td>\n      <td>0.0</td>\n      <td>1.0</td>\n      <td>0.0</td>\n      <td>0.0</td>\n      <td>0.0</td>\n      <td>0.0</td>\n    </tr>\n    <tr>\n      <th>99999</th>\n      <td>2</td>\n      <td>75000</td>\n      <td>50</td>\n      <td>1</td>\n      <td>0</td>\n      <td>0.0</td>\n      <td>2</td>\n      <td>1</td>\n      <td>16</td>\n      <td>1</td>\n      <td>...</td>\n      <td>0</td>\n      <td>0.0</td>\n      <td>0.0</td>\n      <td>0.0</td>\n      <td>0.0</td>\n      <td>0.0</td>\n      <td>0.0</td>\n      <td>1.0</td>\n      <td>0.0</td>\n      <td>1.0</td>\n    </tr>\n  </tbody>\n</table>\n<p>100000 rows × 56 columns</p>\n</div>"
     },
     "execution_count": 1604,
     "metadata": {},
     "output_type": "execute_result"
    }
   ],
   "source": [
    "X_not_num"
   ],
   "metadata": {
    "collapsed": false,
    "pycharm": {
     "name": "#%%\n"
    }
   }
  },
  {
   "cell_type": "code",
   "execution_count": 1605,
   "outputs": [],
   "source": [
    "# to add columns back after scaling\n",
    "columns = num_to_s.columns"
   ],
   "metadata": {
    "collapsed": false,
    "pycharm": {
     "name": "#%%\n"
    }
   }
  },
  {
   "cell_type": "markdown",
   "source": [
    "# Standard Scaler"
   ],
   "metadata": {
    "collapsed": false
   }
  },
  {
   "cell_type": "code",
   "execution_count": 1606,
   "outputs": [],
   "source": [
    "### No Scaling - bad option as data is not normal distrobution\n",
    "X_train, X_test, y_train, y_test = train_test_split(X, y, test_size=0.3, random_state=42)\n",
    "\n",
    "### Standard Scaler\n",
    "scaler_ss = StandardScaler()\n",
    "df_ss_num = pd.DataFrame(scaler_ss.fit_transform(num_to_s))\n",
    "df_ss_num.columns = columns\n",
    "\n",
    "# add back to non numerical\n",
    "df_ss = pd.concat([df_ss_num, X_not_num], axis = 1)\n",
    "\n",
    "# Split into train and test sets\n",
    "X_train_ss, X_test_ss, y_train_ss, y_test_ss = train_test_split(df_ss, y, test_size=0.3, random_state=42)"
   ],
   "metadata": {
    "collapsed": false,
    "pycharm": {
     "name": "#%%\n"
    }
   }
  },
  {
   "cell_type": "markdown",
   "source": [
    "# Robust Scaler"
   ],
   "metadata": {
    "collapsed": false,
    "pycharm": {
     "name": "#%% md\n"
    }
   }
  },
  {
   "cell_type": "code",
   "execution_count": 1607,
   "outputs": [],
   "source": [
    "scaler_rs = RobustScaler()\n",
    "df_rs_num = pd.DataFrame(scaler_rs.fit_transform(num_to_s))\n",
    "df_rs_num.columns = columns\n",
    "\n",
    "# add back to non numerical\n",
    "df_rs = pd.concat([df_rs_num, X_not_num], axis = 1)\n",
    "\n",
    "# Split into train and test sets\n",
    "X_train_rs, X_test_rs, y_train_rs, y_test_rs = train_test_split(df_rs, y, test_size=0.3, random_state=42)\n"
   ],
   "metadata": {
    "collapsed": false,
    "pycharm": {
     "name": "#%%\n"
    }
   }
  },
  {
   "cell_type": "markdown",
   "source": [
    "# Min max Scaled"
   ],
   "metadata": {
    "collapsed": false,
    "pycharm": {
     "name": "#%% md\n"
    }
   }
  },
  {
   "cell_type": "code",
   "execution_count": 1608,
   "outputs": [],
   "source": [
    "scaler_mm = MinMaxScaler()\n",
    "df_min_max_num = pd.DataFrame(scaler_mm.fit_transform(num_to_s))\n",
    "df_min_max_num.columns = columns\n",
    "\n",
    "# add back to non numerical\n",
    "df_min_max = pd.concat([df_min_max_num, X_not_num], axis = 1)\n",
    "\n",
    "# Split into train and test sets\n",
    "X_train_mm, X_test_mm, y_train_mm, y_test_mm = train_test_split(df_min_max, y, test_size=0.3, random_state=42)\n"
   ],
   "metadata": {
    "collapsed": false,
    "pycharm": {
     "name": "#%%\n"
    }
   }
  },
  {
   "cell_type": "markdown",
   "source": [
    "# Z-score approach"
   ],
   "metadata": {
    "collapsed": false,
    "pycharm": {
     "name": "#%% md\n"
    }
   }
  },
  {
   "cell_type": "code",
   "execution_count": 1609,
   "outputs": [],
   "source": [
    "z = np.abs(stats.zscore(num_to_s))\n",
    "num_out = np.where(z > 3)\n",
    "\n",
    "# percentage of outliers with chosen threshold = 3\n",
    "per_out = str(round(len(num_out) / len(num_to_s),2) * 100) + '%'\n",
    "per_out\n",
    "\n",
    "# to delete outliers\n",
    "num_to_final = num_to_s[(z < 3).all(axis=1)]\n",
    "\n",
    "# deleted approx 1500 / 100'000 Rows due to outliers"
   ],
   "metadata": {
    "collapsed": false,
    "pycharm": {
     "name": "#%%\n"
    }
   }
  },
  {
   "cell_type": "markdown",
   "source": [
    "Outliers very hard to scale, hence other apporach chosesn:\n",
    "- Bucketing of continuous features into ranges\n",
    "- Display them as integers\n",
    "- Run NN, that will simply adjust weights of nodes accordingly (almost none for outliers)"
   ],
   "metadata": {
    "collapsed": false,
    "pycharm": {
     "name": "#%% md\n"
    }
   }
  },
  {
   "cell_type": "markdown",
   "source": [
    "# Bucketing"
   ],
   "metadata": {
    "collapsed": false
   }
  },
  {
   "cell_type": "code",
   "execution_count": 1610,
   "outputs": [],
   "source": [
    "# objective to optimize q, as this defines number of buckets\n",
    "\n",
    "for i in numerical_to_scale:\n",
    "    X['quantile_' + i] = pd.qcut(X[i],q=2000, labels = False, duplicates= 'drop')\n",
    "\n",
    "X_final = X.drop(columns = numerical_to_scale)"
   ],
   "metadata": {
    "collapsed": false,
    "pycharm": {
     "name": "#%%\n"
    }
   }
  },
  {
   "cell_type": "code",
   "execution_count": 1611,
   "outputs": [
    {
     "data": {
      "text/plain": "1620    50\n1556    50\n1492    50\n1428    50\n1983    50\nName: quantile_DAMAGE_DESCRIPTION_1, dtype: int64"
     },
     "execution_count": 1611,
     "metadata": {},
     "output_type": "execute_result"
    }
   ],
   "source": [
    "#checking out valuecounts for different buckets - outliers should basically have their own bucket\n",
    "X_final.quantile_DAMAGE_DESCRIPTION_1.value_counts().tail()"
   ],
   "metadata": {
    "collapsed": false,
    "pycharm": {
     "name": "#%%\n"
    }
   }
  },
  {
   "cell_type": "markdown",
   "source": [
    "# Multilayer Perceptron"
   ],
   "metadata": {
    "collapsed": false,
    "pycharm": {
     "name": "#%% md\n"
    }
   }
  },
  {
   "cell_type": "code",
   "execution_count": null,
   "outputs": [
    {
     "name": "stderr",
     "output_type": "stream",
     "text": [
      "c:\\users\\marc\\documents\\github\\02_python\\hdi_hackathon\\lib\\site-packages\\sklearn\\utils\\validation.py:63: DataConversionWarning: A column-vector y was passed when a 1d array was expected. Please change the shape of y to (n_samples, ), for example using ravel().\n",
      "  return f(*args, **kwargs)\n"
     ]
    }
   ],
   "source": [
    "X_train_nn, X_test_nn, y_train_nn, y_test_nn = train_test_split(X_final, y,random_state=1)\n",
    "\n",
    "regr = MLPRegressor(random_state=1, max_iter=500, hidden_layer_sizes=(150,100,50,25)).fit(X_train_nn, y_train_nn)\n",
    "\n",
    "y_pred = regr.predict(X_test_nn)\n",
    "\n",
    "regr.score(X_test_nn, y_test_nn)\n"
   ],
   "metadata": {
    "collapsed": false,
    "pycharm": {
     "name": "#%%\n",
     "is_executing": true
    }
   }
  },
  {
   "cell_type": "markdown",
   "source": [
    "# Simple other models with scaled data (no bucketing), as R2 of MLP is very low"
   ],
   "metadata": {
    "collapsed": false,
    "pycharm": {
     "name": "#%% md\n"
    }
   }
  },
  {
   "cell_type": "code",
   "execution_count": null,
   "outputs": [],
   "source": [
    "lr = LinearRegression()\n",
    "lr.fit(X_train_ss, y_train_ss)\n",
    "y_pred_lr = lr.predict(X_test_ss)\n",
    "lr.score(X_test_ss, y_test_ss)"
   ],
   "metadata": {
    "collapsed": false,
    "pycharm": {
     "name": "#%%\n",
     "is_executing": true
    }
   }
  },
  {
   "cell_type": "code",
   "execution_count": null,
   "outputs": [],
   "source": [
    "xg = XGBRegressor()\n",
    "xg.fit(X_train_nn, y_train_nn)\n",
    "y_pred_xg = xg.predict(X_test_nn)\n",
    "xg.score(X_test_nn, y_test_nn)"
   ],
   "metadata": {
    "collapsed": false,
    "pycharm": {
     "name": "#%%\n",
     "is_executing": true
    }
   }
  }
 ],
 "metadata": {
  "kernelspec": {
   "display_name": "Python 3",
   "language": "python",
   "name": "python3"
  },
  "language_info": {
   "codemirror_mode": {
    "name": "ipython",
    "version": 2
   },
   "file_extension": ".py",
   "mimetype": "text/x-python",
   "name": "python",
   "nbconvert_exporter": "python",
   "pygments_lexer": "ipython2",
   "version": "2.7.6"
  }
 },
 "nbformat": 4,
 "nbformat_minor": 0
}